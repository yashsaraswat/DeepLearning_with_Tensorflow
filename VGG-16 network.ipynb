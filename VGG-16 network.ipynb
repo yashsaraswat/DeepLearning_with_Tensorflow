{
 "cells": [
  {
   "cell_type": "code",
   "execution_count": null,
   "id": "9ec3beab",
   "metadata": {},
   "outputs": [],
   "source": [
    "import tensorflow as tf\n",
    "import tensorflow_datasets as tfds"
   ]
  },
  {
   "cell_type": "markdown",
   "id": "7c57fba8",
   "metadata": {},
   "source": [
    "Creating VGG Block for multiple CNN layers of same type"
   ]
  },
  {
   "cell_type": "code",
   "execution_count": null,
   "id": "2b42a806",
   "metadata": {},
   "outputs": [],
   "source": [
    "class Block(tf.keras.Model):\n",
    "    def __init__(self, filters, kernel_size, repititions, pool_size = 2, strides = 2):\n",
    "        super(Block, self).__init__()\n",
    "        self.filters = filters\n",
    "        self.kernel_size = kernel_size\n",
    "        self.repititions = repititions\n",
    "        \n",
    "        for i in range(self.repititions):\n",
    "            vars(self)[f'conv2D_{i}'] = tf.keras.layers.Conv2D(self.filters, self.kernel_size,\n",
    "                                                               activation=\"relu\", padding = \"same\")\n",
    "            \n",
    "        self.max_pool = tf.keras.layers.MaxPool2D(pool_size, strides)\n",
    "        \n",
    "        \n",
    "    def call(self, inputs):\n",
    "        conv2D_0 = vars(self)['conv2D_0']\n",
    "        \n",
    "        x = conv2D_0(inputs)\n",
    "        for i in range(1, self.repititions):\n",
    "            x = vars(self)[f\"conv2D_{i}\"](x)\n",
    "            \n",
    "        x = self.max_pool(x)\n",
    "        \n",
    "        return x"
   ]
  },
  {
   "cell_type": "markdown",
   "id": "23e49caf",
   "metadata": {},
   "source": [
    "Creating VGG model with multiple blocks"
   ]
  },
  {
   "cell_type": "code",
   "execution_count": null,
   "id": "a94dfebd",
   "metadata": {},
   "outputs": [],
   "source": [
    "class MyVGG(tf.keras.Model):\n",
    "    def __init__(self, num_classes):\n",
    "        super(MyVGG, self).__init__()\n",
    "        \n",
    "        # Creating blocks of VGG with following Configurations\n",
    "        self.block_a = Block(filters = 64, kernel_size = 3, repititions = 2)\n",
    "        self.block_b = Block(filters = 128, kernel_size = 3, repititions = 2)\n",
    "        self.block_c = Block(filters = 256, kernel_size = 3, repititions = 3)\n",
    "        self.block_d = Block(filters = 512, kernel_size = 3, repititions = 3)\n",
    "        self.block_e = Block(filters = 512, kernel_size = 3, repititions = 3)\n",
    "        \n",
    "        self.flatten = tf.keras.layers.Flatten()\n",
    "        self.fc = tf.keras.layers.Dense(units = 256, activation = \"relu\")\n",
    "        self.classifier = tf.keras.layers.Dense(units = num_classes, activation = \"softmax\")\n",
    "        \n",
    "    def call(self, inputs):\n",
    "        x = self.block_a(inputs)\n",
    "        x = self.block_b(x)\n",
    "        x = self.block_c(x)\n",
    "        x = self.block_d(x)\n",
    "        x = self.block_e(x)\n",
    "        x = self.flatten(x)\n",
    "        x = self.fc(x)\n",
    "        x = self.classifier(x)\n",
    "        return x"
   ]
  },
  {
   "cell_type": "code",
   "execution_count": null,
   "id": "dcf95b2d",
   "metadata": {},
   "outputs": [],
   "source": [
    "# Doing Binary Classification as example\n",
    "dataset = tfds.load('cats_vs_dogs', split=tfds.Split.TRAIN, data_dir='data/')\n",
    "\n",
    "# Initialize VGG with the number of classes \n",
    "vgg = MyVGG(num_classes=2)\n",
    "\n",
    "# Compile with losses and metrics\n",
    "vgg.compile(optimizer='adam', loss='sparse_categorical_crossentropy', metrics=['accuracy'])\n",
    "\n",
    "# Define preprocessing function\n",
    "def preprocess(features):\n",
    "    # Resize and normalize\n",
    "    image = tf.image.resize(features['image'], (224, 224))\n",
    "    return tf.cast(image, tf.float32) / 255., features['label']\n",
    "\n",
    "# Apply transformations to dataset\n",
    "dataset = dataset.map(preprocess).batch(32)\n",
    "\n",
    "# Train the custom VGG model\n",
    "vgg.fit(dataset, epochs=10)"
   ]
  }
 ],
 "metadata": {
  "kernelspec": {
   "display_name": "Python 3 (ipykernel)",
   "language": "python",
   "name": "python3"
  },
  "language_info": {
   "codemirror_mode": {
    "name": "ipython",
    "version": 3
   },
   "file_extension": ".py",
   "mimetype": "text/x-python",
   "name": "python",
   "nbconvert_exporter": "python",
   "pygments_lexer": "ipython3",
   "version": "3.8.15"
  }
 },
 "nbformat": 4,
 "nbformat_minor": 5
}
